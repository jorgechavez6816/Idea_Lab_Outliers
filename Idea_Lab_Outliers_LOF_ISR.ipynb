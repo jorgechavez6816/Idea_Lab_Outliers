{
 "cells": [
  {
   "cell_type": "code",
   "execution_count": 3,
   "metadata": {},
   "outputs": [],
   "source": [
    "import pandas as pd\n",
    "from sklearn.neighbors import LocalOutlierFactor\n",
    "from sklearn.ensemble import IsolationForest\n",
    "\n",
    "#df = pd.read_csv(\"C:\\\\Users\\\\Intel\\\\Documents\\\\Mis documentos IDEA\\\\Samples\\\\Ejemplo-Detalle de ventas.csv\", delimiter=';')\n",
    "df = pd.read_excel(\"C:\\\\Users\\\\intel\\\\Documents\\\\Mis documentos IDEA\\\\Samples\\\\Exportaciones.ILB\\\\Ejemplo-Detalle de ventas.xlsx\")\n",
    "clf = LocalOutlierFactor(n_neighbors=20)\n",
    "Y_pred = clf.fit_predict(df[['COD_PROD','TOTAL']])\n",
    "clf.negative_outlier_factor_\n",
    "df['RES_LOF_SCORE'] = clf.negative_outlier_factor_\n",
    "df['RES_LOF_PREDICTION'] = Y_pred\n",
    "\n",
    "model=IsolationForest(random_state=0, n_estimators=80, max_samples= 'auto', contamination=float(0.01),max_features=1.0)\n",
    "model.fit(df[['COD_PROD','TOTAL']])\n",
    "df['RES_ISF_SCORE']=model.decision_function(df[['COD_PROD','TOTAL']])\n",
    "df['RES_ISF_PREDICTION']=model.predict(df[['COD_PROD','TOTAL']])\n",
    "df.head(20)\n",
    "\n",
    "df.to_csv('C:\\\\Users\\\\Intel\\\\Documents\\\\Mis documentos IDEA\\\\Samples\\\\Archivos fuente.ILB\\\\Ejemplo-Detalle de ventas_Output1.csv')\n"
   ]
  },
  {
   "cell_type": "code",
   "execution_count": null,
   "metadata": {},
   "outputs": [],
   "source": []
  }
 ],
 "metadata": {
  "kernelspec": {
   "display_name": "Python 3",
   "language": "python",
   "name": "python3"
  },
  "language_info": {
   "codemirror_mode": {
    "name": "ipython",
    "version": 3
   },
   "file_extension": ".py",
   "mimetype": "text/x-python",
   "name": "python",
   "nbconvert_exporter": "python",
   "pygments_lexer": "ipython3",
   "version": "3.7.6"
  }
 },
 "nbformat": 4,
 "nbformat_minor": 4
}
